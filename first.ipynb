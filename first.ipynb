{
 "cells": [
  {
   "cell_type": "code",
   "execution_count": 5,
   "metadata": {},
   "outputs": [],
   "source": [
    "'''\n",
    "독립 조건\n",
    "조건1 : P(A 교집합 B) = P(A)*P(B)\n",
    "조건2 : P(A) = P(A|B) or P(B) = P(B|A)\n",
    "조건3 : P(A|B) = P(A| 여집합 B ) or P(B|A) = P(B| 여집합 A)\n",
    "\n",
    "cp = conditional probability\n",
    "ip = intersection probability\n",
    "'''\n",
    "def Independence(p_a, p_b, ip_a_b, ip_a_bc, ip_ac_b):\n",
    "    flag_1           = (p_a*p_b == ip_a_b)\n",
    "    \n",
    "    cp_a_b           = ip_a_b/p_b\n",
    "    cp_b_a           = ip_a_b/p_a  \n",
    "    flag_2           = (cp_a_b==p_a or cp_b_a==p_b)\n",
    "    \n",
    "    cp_a_bc          = ip_a_bc/(1-p_b)\n",
    "    cp_b_ac          = ip_ac_b/(1-p_a)\n",
    "    flag_3           = (cp_a_b==cp_a_bc or cp_b_a==cp_b_ac)\n",
    "    \n",
    "    return (flag_1, flag_2, flag_3)"
   ]
  },
  {
   "cell_type": "code",
   "execution_count": 2,
   "metadata": {},
   "outputs": [],
   "source": [
    "dice = [1,2,3,4,5,6]"
   ]
  },
  {
   "cell_type": "code",
   "execution_count": 6,
   "metadata": {},
   "outputs": [
    {
     "name": "stdout",
     "output_type": "stream",
     "text": [
      "task 1. (True, True, True)\n"
     ]
    }
   ],
   "source": [
    "# task 1. 주사위를 던져 2의 배수와 3의 배수가 나올 확률은 독립인가?\n",
    "\n",
    "p_a     = len(list(filter(lambda x:x%2==0, dice)))/len(dice)\n",
    "p_b     = len(list(filter(lambda x:x%3==0, dice)))/len(dice)\n",
    "ip_a_b  = len(list(filter(lambda x:x%2==0 and x%3==0, dice)))/len(dice)\n",
    "#ip_b_a  = len(list(filter(lambda x:x%3==0 and x%2==0, dice)))/len(dice)\n",
    "ip_a_bc = len(list(filter(lambda x:x%2==0 and x%3!=0, dice)))/len(dice)\n",
    "ip_ac_b = len(list(filter(lambda x:x%2!=0 and x%3==0, dice)))/len(dice)\n",
    "\n",
    "print('task 1.',Independence(p_a, p_b, ip_a_b, ip_a_bc, ip_ac_b))"
   ]
  },
  {
   "cell_type": "code",
   "execution_count": 10,
   "metadata": {},
   "outputs": [
    {
     "name": "stdout",
     "output_type": "stream",
     "text": [
      "task 2. (False, False, False)\n"
     ]
    }
   ],
   "source": [
    "# task 2. 주사위를 던져 짝수가 나올 확률과 소수가 나올 확률은 독립인가?\n",
    "\n",
    "def is_prime_num(n):\n",
    "    for i in range(2, n):\n",
    "        if n % i == 0:\n",
    "            return False # i로 나누어 떨어지면 소수가 아니므로 False 리턴\n",
    "    return True # False가 리턴되지 않고 for문을 빠져나왔다면 소수이므로 True 리턴\n",
    "p_a = len(list(filter(lambda x:x%2==0, dice)))/len(dice)\n",
    "p_b = len(list(filter(lambda x:is_prime_num(x), dice)))/len(dice)\n",
    "ip_a_b = len(list(filter(lambda x:x%2==0 and is_prime_num(x), dice)))/len(dice)\n",
    "ip_a_bc = len(list(filter(lambda x:x%2==0 and not is_prime_num(x), dice)))/len(dice)\n",
    "ip_ac_b = len(list(filter(lambda x:x%2!=0 and is_prime_num(x), dice)))/len(dice)\n",
    "\n",
    "print('task 2.',Independence(p_a, p_b, ip_a_b, ip_a_bc, ip_ac_b))"
   ]
  }
 ],
 "metadata": {
  "kernelspec": {
   "display_name": "Python 3",
   "language": "python",
   "name": "python3"
  },
  "language_info": {
   "codemirror_mode": {
    "name": "ipython",
    "version": 3
   },
   "file_extension": ".py",
   "mimetype": "text/x-python",
   "name": "python",
   "nbconvert_exporter": "python",
   "pygments_lexer": "ipython3",
   "version": "3.8.3"
  }
 },
 "nbformat": 4,
 "nbformat_minor": 4
}
